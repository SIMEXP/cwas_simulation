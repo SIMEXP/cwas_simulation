{
 "cells": [
  {
   "cell_type": "code",
   "execution_count": 1,
   "id": "71e121d4",
   "metadata": {},
   "outputs": [],
   "source": [
    "import simulation_tools as sim\n",
    "import pandas as pd"
   ]
  },
  {
   "cell_type": "code",
   "execution_count": 2,
   "id": "fb17ca19",
   "metadata": {},
   "outputs": [],
   "source": [
    "# Path to a .csv file with connectomes in upper triangular form\n",
    "path_conn = \"/home/neuromod/ad_sz/data/abide/abide1_2_controls_concat.csv\""
   ]
  },
  {
   "cell_type": "code",
   "execution_count": 3,
   "id": "8b6c3bf5",
   "metadata": {},
   "outputs": [],
   "source": [
    "# Load control connectomes from ABIDE\n",
    "conn_df = pd.read_csv(path_conn)"
   ]
  },
  {
   "cell_type": "code",
   "execution_count": 4,
   "id": "5df7cb69",
   "metadata": {},
   "outputs": [],
   "source": [
    "# Create a range of N values\n",
    "N_values = range(300, 951, 50)"
   ]
  },
  {
   "cell_type": "code",
   "execution_count": 5,
   "id": "3b4565ab",
   "metadata": {},
   "outputs": [
    {
     "name": "stdout",
     "output_type": "stream",
     "text": [
      "Simulation ran for N=300.\n",
      "Simulation ran for N=350.\n",
      "Simulation ran for N=400.\n",
      "Simulation ran for N=450.\n",
      "Simulation ran for N=500.\n",
      "Simulation ran for N=550.\n",
      "Simulation ran for N=600.\n",
      "Simulation ran for N=650.\n",
      "Simulation ran for N=700.\n",
      "Simulation ran for N=750.\n",
      "Simulation ran for N=800.\n",
      "Simulation ran for N=850.\n",
      "Simulation ran for N=900.\n",
      "Simulation ran for N=950.\n"
     ]
    }
   ],
   "source": [
    "result_list = []\n",
    "# Loop through the values of N and run simulation with specififed parameters\n",
    "for N in N_values:\n",
    "    result = sim.run_multiple_simulation(conn_df, N=N, pi=0.20, d=0.3, q=0.1, num_sample=100)\n",
    "    print(f\"Simulation ran for N={N}.\")\n",
    "    result_list.append(result)"
   ]
  },
  {
   "cell_type": "code",
   "execution_count": 6,
   "id": "ebf2916e",
   "metadata": {},
   "outputs": [
    {
     "name": "stdout",
     "output_type": "stream",
     "text": [
      "Estimated mean sensitivity to detect d=0.3, with pi=0.2%, q=0.1 and N=300: 0.52, with mean specificity of 0.99.\n",
      "Estimated mean sensitivity to detect d=0.3, with pi=0.2%, q=0.1 and N=350: 0.62, with mean specificity of 0.99.\n",
      "Estimated mean sensitivity to detect d=0.3, with pi=0.2%, q=0.1 and N=400: 0.72, with mean specificity of 0.99.\n",
      "Estimated mean sensitivity to detect d=0.3, with pi=0.2%, q=0.1 and N=450: 0.78, with mean specificity of 0.98.\n",
      "Estimated mean sensitivity to detect d=0.3, with pi=0.2%, q=0.1 and N=500: 0.84, with mean specificity of 0.98.\n",
      "Estimated mean sensitivity to detect d=0.3, with pi=0.2%, q=0.1 and N=550: 0.88, with mean specificity of 0.98.\n",
      "Estimated mean sensitivity to detect d=0.3, with pi=0.2%, q=0.1 and N=600: 0.91, with mean specificity of 0.98.\n",
      "Estimated mean sensitivity to detect d=0.3, with pi=0.2%, q=0.1 and N=650: 0.94, with mean specificity of 0.98.\n",
      "Estimated mean sensitivity to detect d=0.3, with pi=0.2%, q=0.1 and N=700: 0.95, with mean specificity of 0.98.\n",
      "Estimated mean sensitivity to detect d=0.3, with pi=0.2%, q=0.1 and N=750: 0.96, with mean specificity of 0.98.\n",
      "Estimated mean sensitivity to detect d=0.3, with pi=0.2%, q=0.1 and N=800: 0.97, with mean specificity of 0.98.\n",
      "Estimated mean sensitivity to detect d=0.3, with pi=0.2%, q=0.1 and N=850: 0.98, with mean specificity of 0.98.\n",
      "Estimated mean sensitivity to detect d=0.3, with pi=0.2%, q=0.1 and N=900: 0.99, with mean specificity of 0.98.\n",
      "Estimated mean sensitivity to detect d=0.3, with pi=0.2%, q=0.1 and N=950: 0.99, with mean specificity of 0.98.\n"
     ]
    }
   ],
   "source": [
    "for result in result_list:\n",
    "    print(result)"
   ]
  },
  {
   "cell_type": "code",
   "execution_count": null,
   "id": "cd6f422f",
   "metadata": {},
   "outputs": [],
   "source": []
  }
 ],
 "metadata": {
  "kernelspec": {
   "display_name": "Python 3 (ipykernel)",
   "language": "python",
   "name": "python3"
  },
  "language_info": {
   "codemirror_mode": {
    "name": "ipython",
    "version": 3
   },
   "file_extension": ".py",
   "mimetype": "text/x-python",
   "name": "python",
   "nbconvert_exporter": "python",
   "pygments_lexer": "ipython3",
   "version": "3.10.10"
  }
 },
 "nbformat": 4,
 "nbformat_minor": 5
}
